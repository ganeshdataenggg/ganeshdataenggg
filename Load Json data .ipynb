{
 "cells": [
  {
   "cell_type": "code",
   "execution_count": 0,
   "metadata": {
    "application/vnd.databricks.v1+cell": {
     "cellMetadata": {
      "byteLimit": 2048000,
      "rowLimit": 10000
     },
     "inputWidgets": {},
     "nuid": "e1e6d331-79fa-4af6-97d7-6b942286f0ae",
     "showTitle": false,
     "title": ""
    }
   },
   "outputs": [
    {
     "output_type": "stream",
     "name": "stdout",
     "output_type": "stream",
     "text": [
      "+--------+----+----------------------+----------+----------+-------+\n|currency|code|description           |rate      |rate_float|symbol |\n+--------+----+----------------------+----------+----------+-------+\n|USD     |USD |United States Dollar  |47,851.831|47851.8307|&#36;  |\n|GBP     |GBP |British Pound Sterling|37,910.422|37910.4215|&pound;|\n|EUR     |EUR |Euro                  |44,401.953|44401.953 |&euro; |\n+--------+----+----------------------+----------+----------+-------+\n\n"
     ]
    }
   ],
   "source": [
    "from pyspark.sql.functions import col, explode, expr, create_map\n",
    "import json\n",
    "import requests\n",
    "\n",
    "query = \"https://api.coindesk.com/v1/bpi/currentprice.json\"\n",
    "response = requests.get(query)\n",
    "response.raise_for_status()\n",
    "response_content = json.loads(response.content)\n",
    "\n",
    "\n",
    "df = spark.read.json(spark.sparkContext.parallelize([response_content]))\n",
    "\n",
    "# Extract the bpi data into separate rows\n",
    "result_df = df.select(\n",
    "    explode(create_map(expr(\"'USD'\"), col(\"bpi.USD\"), expr(\"'GBP'\"), col(\"bpi.GBP\"), expr(\"'EUR'\"), col(\"bpi.EUR\"))).alias(\"currency\", \"data\")\n",
    ").select(\"currency\", expr(\"data.*\"))\n",
    "\n",
    "# Display the DataFrame\n",
    "result_df.show(truncate=False)"
   ]
  }
 ],
 "metadata": {
  "application/vnd.databricks.v1+notebook": {
   "dashboards": [],
   "language": "python",
   "notebookMetadata": {
    "pythonIndentUnit": 4
   },
   "notebookName": "Load Json data",
   "widgets": {}
  }
 },
 "nbformat": 4,
 "nbformat_minor": 0
}

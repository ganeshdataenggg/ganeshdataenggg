{
 "cells": [
  {
   "cell_type": "code",
   "execution_count": 0,
   "metadata": {
    "application/vnd.databricks.v1+cell": {
     "cellMetadata": {
      "byteLimit": 2048000,
      "rowLimit": 10000
     },
     "inputWidgets": {},
     "nuid": "66ad7f6d-233c-49c6-b00d-03ded4d0aa61",
     "showTitle": false,
     "title": ""
    }
   },
   "outputs": [],
   "source": [
    "import pandas as pd\n",
    "import sys\n",
    "import os"
   ]
  },
  {
   "cell_type": "code",
   "execution_count": 0,
   "metadata": {
    "application/vnd.databricks.v1+cell": {
     "cellMetadata": {
      "byteLimit": 2048000,
      "rowLimit": 10000
     },
     "inputWidgets": {},
     "nuid": "27c0ea4c-0920-4bef-b0ca-11d3d0b9d979",
     "showTitle": false,
     "title": ""
    }
   },
   "outputs": [],
   "source": [
    "def cal_stage(min,max):\n",
    "    n = 9\n",
    "    s = (max-min)/(n-1)\n",
    "    return [min + s * i for i in range(n)]\n"
   ]
  },
  {
   "cell_type": "code",
   "execution_count": 0,
   "metadata": {
    "application/vnd.databricks.v1+cell": {
     "cellMetadata": {
      "byteLimit": 2048000,
      "rowLimit": 10000
     },
     "inputWidgets": {},
     "nuid": "886cabec-d709-4992-b2f6-2174da07496d",
     "showTitle": false,
     "title": ""
    }
   },
   "outputs": [
    {
     "output_type": "stream",
     "name": "stdout",
     "output_type": "stream",
     "text": [
      "Out[33]: [3.0, 5.625, 8.25, 10.875, 13.5, 16.125, 18.75, 21.375, 24.0]"
     ]
    }
   ],
   "source": [
    "cal_stage(3,24)"
   ]
  },
  {
   "cell_type": "code",
   "execution_count": 0,
   "metadata": {
    "application/vnd.databricks.v1+cell": {
     "cellMetadata": {
      "byteLimit": 2048000,
      "rowLimit": 10000
     },
     "inputWidgets": {},
     "nuid": "3133b262-68b2-447b-ad6d-a17c669db7be",
     "showTitle": false,
     "title": ""
    }
   },
   "outputs": [
    {
     "output_type": "display_data",
     "data": {
      "text/html": [
       "<style scoped>\n",
       "  .table-result-container {\n",
       "    max-height: 300px;\n",
       "    overflow: auto;\n",
       "  }\n",
       "  table, th, td {\n",
       "    border: 1px solid black;\n",
       "    border-collapse: collapse;\n",
       "  }\n",
       "  th, td {\n",
       "    padding: 5px;\n",
       "  }\n",
       "  th {\n",
       "    text-align: left;\n",
       "  }\n",
       "</style><div class='table-result-container'><table class='table-result'><thead style='background-color: white'><tr><th>product</th><th>min_inv</th><th>max_inv</th><th>stages</th></tr></thead><tbody><tr><td>Abc</td><td>3</td><td>24</td><td>List(3.0, 5.625, 8.25, 10.875, 13.5, 16.125, 18.75, 21.375, 24.0)</td></tr></tbody></table></div>"
      ]
     },
     "metadata": {
      "application/vnd.databricks.v1+output": {
       "addedWidgets": {},
       "aggData": [],
       "aggError": "",
       "aggOverflow": false,
       "aggSchema": [],
       "aggSeriesLimitReached": false,
       "aggType": "",
       "arguments": {},
       "columnCustomDisplayInfos": {},
       "data": [
        [
         "Abc",
         3,
         24,
         [
          3.0,
          5.625,
          8.25,
          10.875,
          13.5,
          16.125,
          18.75,
          21.375,
          24.0
         ]
        ]
       ],
       "datasetInfos": [],
       "dbfsResultPath": null,
       "isJsonSchema": true,
       "metadata": {},
       "overflow": false,
       "plotOptions": {
        "customPlotOptions": {},
        "displayType": "table",
        "pivotAggregation": null,
        "pivotColumns": null,
        "xColumns": null,
        "yColumns": null
       },
       "removedWidgets": [],
       "schema": [
        {
         "metadata": "{}",
         "name": "product",
         "type": "\"string\""
        },
        {
         "metadata": "{}",
         "name": "min_inv",
         "type": "\"long\""
        },
        {
         "metadata": "{}",
         "name": "max_inv",
         "type": "\"long\""
        },
        {
         "metadata": "{}",
         "name": "stages",
         "type": "{\"type\":\"array\",\"elementType\":\"double\",\"containsNull\":true}"
        }
       ],
       "type": "table"
      }
     },
     "output_type": "display_data"
    },
    {
     "output_type": "display_data",
     "data": {
      "text/html": [
       "<style scoped>\n",
       "  .table-result-container {\n",
       "    max-height: 300px;\n",
       "    overflow: auto;\n",
       "  }\n",
       "  table, th, td {\n",
       "    border: 1px solid black;\n",
       "    border-collapse: collapse;\n",
       "  }\n",
       "  th, td {\n",
       "    padding: 5px;\n",
       "  }\n",
       "  th {\n",
       "    text-align: left;\n",
       "  }\n",
       "</style><div class='table-result-container'><table class='table-result'><thead style='background-color: white'><tr><th>Product</th><th>Min_Inv</th><th>Max_Inv</th><th>Stages</th></tr></thead><tbody><tr><td>Abc</td><td>3</td><td>24</td><td>3.0</td></tr><tr><td>Abc</td><td>3</td><td>24</td><td>5.625</td></tr><tr><td>Abc</td><td>3</td><td>24</td><td>8.25</td></tr><tr><td>Abc</td><td>3</td><td>24</td><td>10.875</td></tr><tr><td>Abc</td><td>3</td><td>24</td><td>13.5</td></tr><tr><td>Abc</td><td>3</td><td>24</td><td>16.125</td></tr><tr><td>Abc</td><td>3</td><td>24</td><td>18.75</td></tr><tr><td>Abc</td><td>3</td><td>24</td><td>21.375</td></tr><tr><td>Abc</td><td>3</td><td>24</td><td>24.0</td></tr></tbody></table></div>"
      ]
     },
     "metadata": {
      "application/vnd.databricks.v1+output": {
       "addedWidgets": {},
       "aggData": [],
       "aggError": "",
       "aggOverflow": false,
       "aggSchema": [],
       "aggSeriesLimitReached": false,
       "aggType": "",
       "arguments": {},
       "columnCustomDisplayInfos": {},
       "data": [
        [
         "Abc",
         3,
         24,
         3.0
        ],
        [
         "Abc",
         3,
         24,
         5.625
        ],
        [
         "Abc",
         3,
         24,
         8.25
        ],
        [
         "Abc",
         3,
         24,
         10.875
        ],
        [
         "Abc",
         3,
         24,
         13.5
        ],
        [
         "Abc",
         3,
         24,
         16.125
        ],
        [
         "Abc",
         3,
         24,
         18.75
        ],
        [
         "Abc",
         3,
         24,
         21.375
        ],
        [
         "Abc",
         3,
         24,
         24.0
        ]
       ],
       "datasetInfos": [],
       "dbfsResultPath": null,
       "isJsonSchema": true,
       "metadata": {},
       "overflow": false,
       "plotOptions": {
        "customPlotOptions": {},
        "displayType": "table",
        "pivotAggregation": null,
        "pivotColumns": null,
        "xColumns": null,
        "yColumns": null
       },
       "removedWidgets": [],
       "schema": [
        {
         "metadata": "{}",
         "name": "Product",
         "type": "\"string\""
        },
        {
         "metadata": "{}",
         "name": "Min_Inv",
         "type": "\"long\""
        },
        {
         "metadata": "{}",
         "name": "Max_Inv",
         "type": "\"long\""
        },
        {
         "metadata": "{}",
         "name": "Stages",
         "type": "\"double\""
        }
       ],
       "type": "table"
      }
     },
     "output_type": "display_data"
    }
   ],
   "source": [
    "product = ['Abc']\n",
    "min_inv = [3]\n",
    "max_inv = [24]\n",
    "stage_list = list([cal_stage(min_inv[0],max_inv[0])])\n",
    "s_dict = {\n",
    "          \"product\":product,\n",
    "          \"min_inv\":min_inv,\n",
    "          \"max_inv\":max_inv,\n",
    "          \"stages\":stage_list\n",
    "         }\n",
    "df = pd.DataFrame(s_dict)\n",
    "df['stages']=df['stages'].tolist()\n",
    "display(df)\n",
    "final_df = pd.DataFrame([(p.product,p.min_inv,p.max_inv,i) for p in df.itertuples() for i in p.stages])\n",
    "final_df.rename(columns = {0:\"Product\",1:\"Min_Inv\",2:\"Max_Inv\",3:\"Stages\"},inplace=True)\n",
    "display(final_df)"
   ]
  },
  {
   "cell_type": "code",
   "execution_count": 0,
   "metadata": {
    "application/vnd.databricks.v1+cell": {
     "cellMetadata": {
      "byteLimit": 2048000,
      "rowLimit": 10000
     },
     "inputWidgets": {},
     "nuid": "0fbe8a8b-a2ac-428d-988f-fd229ada5302",
     "showTitle": false,
     "title": ""
    }
   },
   "outputs": [
    {
     "output_type": "display_data",
     "data": {
      "text/html": [
       "<style scoped>\n",
       "  .table-result-container {\n",
       "    max-height: 300px;\n",
       "    overflow: auto;\n",
       "  }\n",
       "  table, th, td {\n",
       "    border: 1px solid black;\n",
       "    border-collapse: collapse;\n",
       "  }\n",
       "  th, td {\n",
       "    padding: 5px;\n",
       "  }\n",
       "  th {\n",
       "    text-align: left;\n",
       "  }\n",
       "</style><div class='table-result-container'><table class='table-result'><thead style='background-color: white'><tr><th>Product</th><th>Min_Inv</th><th>Max_Inv</th><th>Stages</th></tr></thead><tbody><tr><td>Abc</td><td>3</td><td>24</td><td>3.0</td></tr><tr><td>Abc</td><td>3</td><td>24</td><td>5.625</td></tr><tr><td>Abc</td><td>3</td><td>24</td><td>8.25</td></tr><tr><td>Abc</td><td>3</td><td>24</td><td>10.875</td></tr><tr><td>Abc</td><td>3</td><td>24</td><td>13.5</td></tr><tr><td>Abc</td><td>3</td><td>24</td><td>16.125</td></tr><tr><td>Abc</td><td>3</td><td>24</td><td>18.75</td></tr><tr><td>Abc</td><td>3</td><td>24</td><td>21.375</td></tr><tr><td>Abc</td><td>3</td><td>24</td><td>24.0</td></tr></tbody></table></div>"
      ]
     },
     "metadata": {
      "application/vnd.databricks.v1+output": {
       "addedWidgets": {},
       "aggData": [],
       "aggError": "",
       "aggOverflow": false,
       "aggSchema": [],
       "aggSeriesLimitReached": false,
       "aggType": "",
       "arguments": {},
       "columnCustomDisplayInfos": {},
       "data": [
        [
         "Abc",
         3,
         24,
         3.0
        ],
        [
         "Abc",
         3,
         24,
         5.625
        ],
        [
         "Abc",
         3,
         24,
         8.25
        ],
        [
         "Abc",
         3,
         24,
         10.875
        ],
        [
         "Abc",
         3,
         24,
         13.5
        ],
        [
         "Abc",
         3,
         24,
         16.125
        ],
        [
         "Abc",
         3,
         24,
         18.75
        ],
        [
         "Abc",
         3,
         24,
         21.375
        ],
        [
         "Abc",
         3,
         24,
         24.0
        ]
       ],
       "datasetInfos": [],
       "dbfsResultPath": null,
       "isJsonSchema": true,
       "metadata": {},
       "overflow": false,
       "plotOptions": {
        "customPlotOptions": {},
        "displayType": "table",
        "pivotAggregation": null,
        "pivotColumns": null,
        "xColumns": null,
        "yColumns": null
       },
       "removedWidgets": [],
       "schema": [
        {
         "metadata": "{}",
         "name": "Product",
         "type": "\"string\""
        },
        {
         "metadata": "{}",
         "name": "Min_Inv",
         "type": "\"long\""
        },
        {
         "metadata": "{}",
         "name": "Max_Inv",
         "type": "\"long\""
        },
        {
         "metadata": "{}",
         "name": "Stages",
         "type": "\"double\""
        }
       ],
       "type": "table"
      }
     },
     "output_type": "display_data"
    }
   ],
   "source": [
    "sdf = spark.createDataFrame(final_df)\n",
    "sdf.createOrReplaceTempView(\"Temp_Stages\")\n",
    "df = spark.sql(\"select * from Temp_Stages\")\n",
    "display(df)"
   ]
  }
 ],
 "metadata": {
  "application/vnd.databricks.v1+notebook": {
   "dashboards": [],
   "language": "python",
   "notebookMetadata": {
    "pythonIndentUnit": 4
   },
   "notebookName": "Calculate Stages of Product",
   "widgets": {}
  }
 },
 "nbformat": 4,
 "nbformat_minor": 0
}
